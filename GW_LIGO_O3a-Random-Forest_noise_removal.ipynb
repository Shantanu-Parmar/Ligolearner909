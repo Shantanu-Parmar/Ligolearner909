{
  "nbformat": 4,
  "nbformat_minor": 0,
  "metadata": {
    "colab": {
      "provenance": [],
      "authorship_tag": "ABX9TyMqCKQXh+BOkAEsCtrzGdYc",
      "include_colab_link": true
    },
    "kernelspec": {
      "name": "python3",
      "display_name": "Python 3"
    },
    "language_info": {
      "name": "python"
    }
  },
  "cells": [
    {
      "cell_type": "markdown",
      "metadata": {
        "id": "view-in-github",
        "colab_type": "text"
      },
      "source": [
        "<a href=\"https://colab.research.google.com/github/Shantanu909/Ligolearner909/blob/main/GW_LIGO_O3a-Random-Forest_noise_removal.ipynb\" target=\"_parent\"><img src=\"https://colab.research.google.com/assets/colab-badge.svg\" alt=\"Open In Colab\"/></a>"
      ]
    },
    {
      "cell_type": "markdown",
      "source": [
        "Data Access\n",
        "Here we import the LIGO time series GW data."
      ],
      "metadata": {
        "id": "b2bOPSP_zLAK"
      }
    },
    {
      "cell_type": "code",
      "execution_count": null,
      "metadata": {
        "id": "GbFu4bcDzBQX"
      },
      "outputs": [],
      "source": [
        "!pip install -q gwosc"
      ]
    },
    {
      "cell_type": "code",
      "source": [
        "import gwosc\n"
      ],
      "metadata": {
        "id": "-wcZNDgCzniz"
      },
      "execution_count": null,
      "outputs": []
    },
    {
      "cell_type": "code",
      "source": [
        "from gwosc.datasets import find_datasets\n",
        "from gwosc import datasets"
      ],
      "metadata": {
        "id": "M5aOmsTVzuxp"
      },
      "execution_count": null,
      "outputs": []
    },
    {
      "cell_type": "markdown",
      "source": [
        "Target area = Cahnnels with AUX_CLN availibility"
      ],
      "metadata": {
        "id": "1QSnPMHEAP49"
      }
    },
    {
      "cell_type": "code",
      "source": [],
      "metadata": {
        "id": "TioHbpNT1nwJ"
      },
      "execution_count": null,
      "outputs": []
    }
  ]
}